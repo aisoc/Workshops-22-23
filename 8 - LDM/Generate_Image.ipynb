{
  "cells": [
    {
      "cell_type": "markdown",
      "metadata": {
        "id": "view-in-github",
        "colab_type": "text"
      },
      "source": [
        "<a href=\"https://colab.research.google.com/github/aisoc/Workshops-22-23/blob/main/8%20-%20LDM/Generate_Image.ipynb\" target=\"_parent\"><img src=\"https://colab.research.google.com/assets/colab-badge.svg\" alt=\"Open In Colab\"/></a>"
      ]
    },
    {
      "cell_type": "markdown",
      "metadata": {
        "id": "OkYFHxE649Lf"
      },
      "source": [
        "## Setup"
      ]
    },
    {
      "cell_type": "code",
      "source": [
        "#install pre-requisties\n",
        "!pip install transformers\n",
        "!pip install diffusers\n",
        "\n",
        "#fetch script from GitHub\n",
        "!git clone https://github.com/aisoc/Workshops-22-23.git\n",
        "!mkdir \"src\"\n",
        "!mv \"Workshops-22-23/8 - LDM/src/StableDiff.py\" \"src/StableDiff.py\"\n",
        "!rm -rf \"Workshops-22-23\""
      ],
      "metadata": {
        "id": "rwKgL7zy5BDi",
        "outputId": "89aca8d9-14f4-4840-f141-1bb616fab298",
        "colab": {
          "base_uri": "https://localhost:8080/"
        }
      },
      "execution_count": 6,
      "outputs": [
        {
          "output_type": "stream",
          "name": "stdout",
          "text": [
            "Looking in indexes: https://pypi.org/simple, https://us-python.pkg.dev/colab-wheels/public/simple/\n",
            "Requirement already satisfied: transformers in /usr/local/lib/python3.9/dist-packages (4.28.1)\n",
            "Requirement already satisfied: tqdm>=4.27 in /usr/local/lib/python3.9/dist-packages (from transformers) (4.65.0)\n",
            "Requirement already satisfied: numpy>=1.17 in /usr/local/lib/python3.9/dist-packages (from transformers) (1.22.4)\n",
            "Requirement already satisfied: huggingface-hub<1.0,>=0.11.0 in /usr/local/lib/python3.9/dist-packages (from transformers) (0.13.4)\n",
            "Requirement already satisfied: tokenizers!=0.11.3,<0.14,>=0.11.1 in /usr/local/lib/python3.9/dist-packages (from transformers) (0.13.3)\n",
            "Requirement already satisfied: filelock in /usr/local/lib/python3.9/dist-packages (from transformers) (3.11.0)\n",
            "Requirement already satisfied: requests in /usr/local/lib/python3.9/dist-packages (from transformers) (2.27.1)\n",
            "Requirement already satisfied: packaging>=20.0 in /usr/local/lib/python3.9/dist-packages (from transformers) (23.0)\n",
            "Requirement already satisfied: regex!=2019.12.17 in /usr/local/lib/python3.9/dist-packages (from transformers) (2022.10.31)\n",
            "Requirement already satisfied: pyyaml>=5.1 in /usr/local/lib/python3.9/dist-packages (from transformers) (6.0)\n",
            "Requirement already satisfied: typing-extensions>=3.7.4.3 in /usr/local/lib/python3.9/dist-packages (from huggingface-hub<1.0,>=0.11.0->transformers) (4.5.0)\n",
            "Requirement already satisfied: charset-normalizer~=2.0.0 in /usr/local/lib/python3.9/dist-packages (from requests->transformers) (2.0.12)\n",
            "Requirement already satisfied: certifi>=2017.4.17 in /usr/local/lib/python3.9/dist-packages (from requests->transformers) (2022.12.7)\n",
            "Requirement already satisfied: idna<4,>=2.5 in /usr/local/lib/python3.9/dist-packages (from requests->transformers) (3.4)\n",
            "Requirement already satisfied: urllib3<1.27,>=1.21.1 in /usr/local/lib/python3.9/dist-packages (from requests->transformers) (1.26.15)\n",
            "Looking in indexes: https://pypi.org/simple, https://us-python.pkg.dev/colab-wheels/public/simple/\n",
            "Requirement already satisfied: diffusers in /usr/local/lib/python3.9/dist-packages (0.15.0)\n",
            "Requirement already satisfied: importlib-metadata in /usr/local/lib/python3.9/dist-packages (from diffusers) (6.3.0)\n",
            "Requirement already satisfied: Pillow in /usr/local/lib/python3.9/dist-packages (from diffusers) (8.4.0)\n",
            "Requirement already satisfied: numpy in /usr/local/lib/python3.9/dist-packages (from diffusers) (1.22.4)\n",
            "Requirement already satisfied: huggingface-hub>=0.13.2 in /usr/local/lib/python3.9/dist-packages (from diffusers) (0.13.4)\n",
            "Requirement already satisfied: filelock in /usr/local/lib/python3.9/dist-packages (from diffusers) (3.11.0)\n",
            "Requirement already satisfied: regex!=2019.12.17 in /usr/local/lib/python3.9/dist-packages (from diffusers) (2022.10.31)\n",
            "Requirement already satisfied: requests in /usr/local/lib/python3.9/dist-packages (from diffusers) (2.27.1)\n",
            "Requirement already satisfied: typing-extensions>=3.7.4.3 in /usr/local/lib/python3.9/dist-packages (from huggingface-hub>=0.13.2->diffusers) (4.5.0)\n",
            "Requirement already satisfied: packaging>=20.9 in /usr/local/lib/python3.9/dist-packages (from huggingface-hub>=0.13.2->diffusers) (23.0)\n",
            "Requirement already satisfied: tqdm>=4.42.1 in /usr/local/lib/python3.9/dist-packages (from huggingface-hub>=0.13.2->diffusers) (4.65.0)\n",
            "Requirement already satisfied: pyyaml>=5.1 in /usr/local/lib/python3.9/dist-packages (from huggingface-hub>=0.13.2->diffusers) (6.0)\n",
            "Requirement already satisfied: zipp>=0.5 in /usr/local/lib/python3.9/dist-packages (from importlib-metadata->diffusers) (3.15.0)\n",
            "Requirement already satisfied: idna<4,>=2.5 in /usr/local/lib/python3.9/dist-packages (from requests->diffusers) (3.4)\n",
            "Requirement already satisfied: charset-normalizer~=2.0.0 in /usr/local/lib/python3.9/dist-packages (from requests->diffusers) (2.0.12)\n",
            "Requirement already satisfied: certifi>=2017.4.17 in /usr/local/lib/python3.9/dist-packages (from requests->diffusers) (2022.12.7)\n",
            "Requirement already satisfied: urllib3<1.27,>=1.21.1 in /usr/local/lib/python3.9/dist-packages (from requests->diffusers) (1.26.15)\n",
            "Cloning into 'Workshops-22-23'...\n",
            "remote: Enumerating objects: 51, done.\u001b[K\n",
            "remote: Counting objects: 100% (51/51), done.\u001b[K\n",
            "remote: Compressing objects: 100% (43/43), done.\u001b[K\n",
            "remote: Total 51 (delta 9), reused 24 (delta 5), pack-reused 0\u001b[K\n",
            "Unpacking objects: 100% (51/51), 2.51 MiB | 2.02 MiB/s, done.\n"
          ]
        }
      ]
    },
    {
      "cell_type": "code",
      "execution_count": 7,
      "metadata": {
        "pycharm": {
          "name": "#%%\n"
        },
        "id": "5HCMSPv049Lg",
        "outputId": "c98c1d2d-80f9-4e7b-fa18-e80c77e0479a",
        "colab": {
          "base_uri": "https://localhost:8080/"
        }
      },
      "outputs": [
        {
          "output_type": "stream",
          "name": "stdout",
          "text": [
            "Using device: cpu\n"
          ]
        }
      ],
      "source": [
        "from transformers import CLIPModel, CLIPTextModel, CLIPTokenizer, CLIPFeatureExtractor, CLIPProcessor\n",
        "from diffusers import AutoencoderKL, UNet2DConditionModel\n",
        "\n",
        "from src import StableDiff\n",
        "\n",
        "import numpy as np\n",
        "from PIL import Image\n",
        "from torch import autocast\n",
        "\n",
        "from diffusers import LMSDiscreteScheduler\n",
        "from tqdm.auto import tqdm\n",
        "from difflib import SequenceMatcher\n",
        "\n",
        "#Setup PyTorch\n",
        "import torch\n",
        "device = torch.device('cuda' if torch.cuda.is_available() else 'cpu')\n",
        "print('Using device:', device)\n",
        "\n",
        "if device.type == 'cuda':\n",
        "    print(torch.cuda.get_device_name(0))\n",
        "    print('Memory Usage:')\n",
        "    print('Allocated:', round(torch.cuda.memory_allocated(0)/1024**3,1), 'GB')\n",
        "    print('Cached:   ', round(torch.cuda.memory_reserved(0)/1024**3,1), 'GB')"
      ]
    },
    {
      "cell_type": "code",
      "execution_count": null,
      "metadata": {
        "pycharm": {
          "name": "#%%\n"
        },
        "id": "XMfpMyDt49Lg"
      },
      "outputs": [],
      "source": [
        "from importlib import reload\n",
        "reload(StableDiff)"
      ]
    },
    {
      "cell_type": "code",
      "execution_count": null,
      "outputs": [],
      "source": [
        "#Init CLIP tokenizer and model\n",
        "model_path_clip = \"openai/clip-vit-large-patch14\"\n",
        "auth_token = \"\" #TODO: Replace this with huggingface auth token as a string if model is not already downloaded\n",
        "clip = StableDiff.CLIP(device,\n",
        "                       clip_model=CLIPModel.from_pretrained(model_path_clip, torch_dtype=torch.float16, use_auth_token=auth_token),\n",
        "                       clip_processor=CLIPProcessor.from_pretrained(model_path_clip, use_auth_token=auth_token)\n",
        "                       )\n",
        "clip.load()"
      ],
      "metadata": {
        "pycharm": {
          "name": "#%%\n"
        },
        "id": "wzOsNLcU49Lh"
      }
    },
    {
      "cell_type": "code",
      "execution_count": null,
      "outputs": [],
      "source": [
        "#Init diffusion model\n",
        "model_path_diffusion = \"runwayml/stable-diffusion-v1-5\"\n",
        "stable_diff = StableDiff.SimpleDiff(device,\n",
        "                                    unet=UNet2DConditionModel.from_pretrained(model_path_diffusion, subfolder=\"unet\", use_auth_token=auth_token, torch_dtype=torch.float16),\n",
        "                                    vae=AutoencoderKL.from_pretrained(model_path_diffusion, subfolder=\"vae\", use_auth_token=auth_token, torch_dtype=torch.float16))\n",
        "stable_diff.load()"
      ],
      "metadata": {
        "pycharm": {
          "name": "#%%\n"
        },
        "id": "VkKx74su49Lh"
      }
    },
    {
      "cell_type": "markdown",
      "source": [
        "## Generate Image"
      ],
      "metadata": {
        "collapsed": false,
        "id": "mK0wLt8c49Lh"
      }
    },
    {
      "cell_type": "code",
      "execution_count": null,
      "outputs": [],
      "source": [
        "#Image Generation from Prompt\n",
        "prompt = \"Cartoon of a Student in Southampton\"\n",
        "\n",
        "#Perform CLIP embeddings\n",
        "with autocast(\"cuda\"):\n",
        "    embedding_unconditional = clip.embed_text(\"\")\n",
        "    embedding_conditional = clip.embed_text(prompt)\n",
        "\n",
        "    print(embedding_unconditional.shape)\n",
        "    print(embedding_conditional.shape)\n",
        "\n",
        "stable_diff.generate(embedding_unconditional=embedding_unconditional,\n",
        "                     embedding_conditional=embedding_conditional,\n",
        "                     tokens_length=clip.max_length, seed=1234, guidance_scale=8.0, steps=100)"
      ],
      "metadata": {
        "pycharm": {
          "name": "#%%\n"
        },
        "id": "CH4zGTg-49Lh"
      }
    },
    {
      "cell_type": "markdown",
      "source": [
        "## Image Variations"
      ],
      "metadata": {
        "collapsed": false,
        "pycharm": {
          "name": "#%% md\n"
        },
        "id": "z1-q3I2349Lh"
      }
    },
    {
      "cell_type": "code",
      "execution_count": null,
      "outputs": [],
      "source": [
        "init_image = Image.open(\"polar_bear.png\")\n",
        "\n",
        "#Perform CLIP embeddings\n",
        "with autocast(\"cuda\"):\n",
        "    embedding_unconditional = clip.embed_text(\"\")\n",
        "    embedding_image = clip.embed_image(init_image)\n",
        "\n",
        "    print(embedding_unconditional.shape)\n",
        "    print(embedding_image.shape)\n",
        "\n",
        "stable_diff.generate(embedding_unconditional=embedding_unconditional,\n",
        "                     embedding_conditional=embedding_image,\n",
        "                     tokens_length=clip.max_length, seed=123, guidance_scale=6.0, steps=100)\n"
      ],
      "metadata": {
        "pycharm": {
          "name": "#%%\n"
        },
        "id": "asgGMPqg49Lh"
      }
    }
  ],
  "metadata": {
    "kernelspec": {
      "display_name": "Python 3 (ipykernel)",
      "language": "python",
      "name": "python3"
    },
    "language_info": {
      "codemirror_mode": {
        "name": "ipython",
        "version": 3
      },
      "file_extension": ".py",
      "mimetype": "text/x-python",
      "name": "python",
      "nbconvert_exporter": "python",
      "pygments_lexer": "ipython3",
      "version": "3.9.6"
    },
    "colab": {
      "provenance": [],
      "include_colab_link": true
    }
  },
  "nbformat": 4,
  "nbformat_minor": 0
}